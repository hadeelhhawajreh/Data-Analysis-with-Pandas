{
 "cells": [
  {
   "cell_type": "code",
   "execution_count": 3,
   "metadata": {},
   "outputs": [
    {
     "name": "stderr",
     "output_type": "stream",
     "text": [
      "b'Skipping line 50794: expected 12 fields, saw 20\\n'\n"
     ]
    }
   ],
   "source": [
    "import pandas as pandas\n",
    "\n",
    "dftrip = pandas.read_csv('trip.csv',error_bad_lines = False)"
   ]
  },
  {
   "cell_type": "markdown",
   "metadata": {},
   "source": [
    "In the bike-stats notebook, answer the following questions/do the following tasks:\n",
    "What is the average trip duration for a borrowed bicycle?\n",
    "What’s the most common age of a bicycle-sharer?\n",
    "Given all the weather data here, find the average precipitation per month, and the median precipitation.\n",
    "What’s the average number of bikes at a given bike station?\n",
    "When a bike station is modified, is it more likely that it’ll lose bikes or gain bikes? How do you know?\n",
    "Come up with 3 more questions that can be answered with this data set."
   ]
  },
  {
   "cell_type": "code",
   "execution_count": null,
   "metadata": {},
   "outputs": [],
   "source": []
  }
 ],
 "metadata": {
  "kernelspec": {
   "display_name": "Python 3",
   "language": "python",
   "name": "python3"
  },
  "language_info": {
   "codemirror_mode": {
    "name": "ipython",
    "version": 3
   },
   "file_extension": ".py",
   "mimetype": "text/x-python",
   "name": "python",
   "nbconvert_exporter": "python",
   "pygments_lexer": "ipython3",
   "version": "3.9.0"
  }
 },
 "nbformat": 4,
 "nbformat_minor": 4
}
