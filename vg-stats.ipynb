{
 "cells": [
  {
   "cell_type": "code",
   "execution_count": 32,
   "metadata": {},
   "outputs": [],
   "source": [
    "import pandas as pandas\n",
    "df=pandas.read_csv('vgsales.csv')"
   ]
  },
  {
   "cell_type": "markdown",
   "metadata": {},
   "source": [
    "# Which company is the most common video game publisher\n"
   ]
  },
  {
   "cell_type": "code",
   "execution_count": 33,
   "metadata": {},
   "outputs": [
    {
     "output_type": "execute_result",
     "data": {
      "text/plain": [
       "   Rank                      Name Platform    Year         Genre Publisher  \\\n",
       "0     1                Wii Sports      Wii  2006.0        Sports  Nintendo   \n",
       "1     2         Super Mario Bros.      NES  1985.0      Platform  Nintendo   \n",
       "2     3            Mario Kart Wii      Wii  2008.0        Racing  Nintendo   \n",
       "3     4         Wii Sports Resort      Wii  2009.0        Sports  Nintendo   \n",
       "4     5  Pokemon Red/Pokemon Blue       GB  1996.0  Role-Playing  Nintendo   \n",
       "\n",
       "   NA_Sales  EU_Sales  JP_Sales  Other_Sales  Global_Sales  \n",
       "0     41.49     29.02      3.77         8.46         82.74  \n",
       "1     29.08      3.58      6.81         0.77         40.24  \n",
       "2     15.85     12.88      3.79         3.31         35.82  \n",
       "3     15.75     11.01      3.28         2.96         33.00  \n",
       "4     11.27      8.89     10.22         1.00         31.37  "
      ],
      "text/html": "<div>\n<style scoped>\n    .dataframe tbody tr th:only-of-type {\n        vertical-align: middle;\n    }\n\n    .dataframe tbody tr th {\n        vertical-align: top;\n    }\n\n    .dataframe thead th {\n        text-align: right;\n    }\n</style>\n<table border=\"1\" class=\"dataframe\">\n  <thead>\n    <tr style=\"text-align: right;\">\n      <th></th>\n      <th>Rank</th>\n      <th>Name</th>\n      <th>Platform</th>\n      <th>Year</th>\n      <th>Genre</th>\n      <th>Publisher</th>\n      <th>NA_Sales</th>\n      <th>EU_Sales</th>\n      <th>JP_Sales</th>\n      <th>Other_Sales</th>\n      <th>Global_Sales</th>\n    </tr>\n  </thead>\n  <tbody>\n    <tr>\n      <th>0</th>\n      <td>1</td>\n      <td>Wii Sports</td>\n      <td>Wii</td>\n      <td>2006.0</td>\n      <td>Sports</td>\n      <td>Nintendo</td>\n      <td>41.49</td>\n      <td>29.02</td>\n      <td>3.77</td>\n      <td>8.46</td>\n      <td>82.74</td>\n    </tr>\n    <tr>\n      <th>1</th>\n      <td>2</td>\n      <td>Super Mario Bros.</td>\n      <td>NES</td>\n      <td>1985.0</td>\n      <td>Platform</td>\n      <td>Nintendo</td>\n      <td>29.08</td>\n      <td>3.58</td>\n      <td>6.81</td>\n      <td>0.77</td>\n      <td>40.24</td>\n    </tr>\n    <tr>\n      <th>2</th>\n      <td>3</td>\n      <td>Mario Kart Wii</td>\n      <td>Wii</td>\n      <td>2008.0</td>\n      <td>Racing</td>\n      <td>Nintendo</td>\n      <td>15.85</td>\n      <td>12.88</td>\n      <td>3.79</td>\n      <td>3.31</td>\n      <td>35.82</td>\n    </tr>\n    <tr>\n      <th>3</th>\n      <td>4</td>\n      <td>Wii Sports Resort</td>\n      <td>Wii</td>\n      <td>2009.0</td>\n      <td>Sports</td>\n      <td>Nintendo</td>\n      <td>15.75</td>\n      <td>11.01</td>\n      <td>3.28</td>\n      <td>2.96</td>\n      <td>33.00</td>\n    </tr>\n    <tr>\n      <th>4</th>\n      <td>5</td>\n      <td>Pokemon Red/Pokemon Blue</td>\n      <td>GB</td>\n      <td>1996.0</td>\n      <td>Role-Playing</td>\n      <td>Nintendo</td>\n      <td>11.27</td>\n      <td>8.89</td>\n      <td>10.22</td>\n      <td>1.00</td>\n      <td>31.37</td>\n    </tr>\n  </tbody>\n</table>\n</div>"
     },
     "metadata": {},
     "execution_count": 33
    }
   ],
   "source": [
    "df.head(5)\n"
   ]
  },
  {
   "cell_type": "code",
   "execution_count": 34,
   "metadata": {},
   "outputs": [],
   "source": [
    "most_common_publisher=df['Publisher'].value_counts(). idxmax()"
   ]
  },
  {
   "cell_type": "code",
   "execution_count": 35,
   "metadata": {},
   "outputs": [
    {
     "output_type": "execute_result",
     "data": {
      "text/plain": [
       "'Electronic Arts'"
      ]
     },
     "metadata": {},
     "execution_count": 35
    }
   ],
   "source": [
    "most_common_publisher"
   ]
  },
  {
   "cell_type": "markdown",
   "metadata": {},
   "source": [
    "# What’s the most common platform?\n"
   ]
  },
  {
   "cell_type": "code",
   "execution_count": 36,
   "metadata": {},
   "outputs": [
    {
     "output_type": "execute_result",
     "data": {
      "text/plain": [
       "'DS'"
      ]
     },
     "metadata": {},
     "execution_count": 36
    }
   ],
   "source": [
    "most_common_platform=df['Platform'].value_counts().idxmax()\n",
    "most_common_platform"
   ]
  },
  {
   "cell_type": "markdown",
   "metadata": {},
   "source": [
    "# What about the most common genre?\n"
   ]
  },
  {
   "cell_type": "code",
   "execution_count": 37,
   "metadata": {},
   "outputs": [
    {
     "output_type": "execute_result",
     "data": {
      "text/plain": [
       "'Action'"
      ]
     },
     "metadata": {},
     "execution_count": 37
    }
   ],
   "source": [
    "most_common_genre=df['Genre'].value_counts().idxmax()\n",
    "\n",
    "most_common_genre"
   ]
  },
  {
   "cell_type": "markdown",
   "metadata": {},
   "source": [
    "# What are the top 20 highest grossing games?\n"
   ]
  },
  {
   "cell_type": "code",
   "execution_count": 38,
   "metadata": {},
   "outputs": [
    {
     "output_type": "execute_result",
     "data": {
      "text/plain": [
       "                                            Name  Global_Sales\n",
       "19  Brain Age: Train Your Brain in Minutes a Day         20.22\n",
       "18                             Super Mario World         20.61\n",
       "17                 Grand Theft Auto: San Andreas         20.81\n",
       "16                            Grand Theft Auto V         21.40\n",
       "15                            Kinect Adventures!         21.82\n",
       "14                                  Wii Fit Plus         22.00\n",
       "13                                       Wii Fit         22.72\n",
       "12                   Pokemon Gold/Pokemon Silver         23.10\n",
       "11                                 Mario Kart DS         23.42\n",
       "10                                    Nintendogs         24.76\n",
       "9                                      Duck Hunt         28.31\n",
       "8                      New Super Mario Bros. Wii         28.62\n",
       "7                                       Wii Play         29.02\n",
       "6                          New Super Mario Bros.         30.01\n",
       "5                                         Tetris         30.26\n",
       "4                       Pokemon Red/Pokemon Blue         31.37\n",
       "3                              Wii Sports Resort         33.00\n",
       "2                                 Mario Kart Wii         35.82\n",
       "1                              Super Mario Bros.         40.24\n",
       "0                                     Wii Sports         82.74"
      ],
      "text/html": "<div>\n<style scoped>\n    .dataframe tbody tr th:only-of-type {\n        vertical-align: middle;\n    }\n\n    .dataframe tbody tr th {\n        vertical-align: top;\n    }\n\n    .dataframe thead th {\n        text-align: right;\n    }\n</style>\n<table border=\"1\" class=\"dataframe\">\n  <thead>\n    <tr style=\"text-align: right;\">\n      <th></th>\n      <th>Name</th>\n      <th>Global_Sales</th>\n    </tr>\n  </thead>\n  <tbody>\n    <tr>\n      <th>19</th>\n      <td>Brain Age: Train Your Brain in Minutes a Day</td>\n      <td>20.22</td>\n    </tr>\n    <tr>\n      <th>18</th>\n      <td>Super Mario World</td>\n      <td>20.61</td>\n    </tr>\n    <tr>\n      <th>17</th>\n      <td>Grand Theft Auto: San Andreas</td>\n      <td>20.81</td>\n    </tr>\n    <tr>\n      <th>16</th>\n      <td>Grand Theft Auto V</td>\n      <td>21.40</td>\n    </tr>\n    <tr>\n      <th>15</th>\n      <td>Kinect Adventures!</td>\n      <td>21.82</td>\n    </tr>\n    <tr>\n      <th>14</th>\n      <td>Wii Fit Plus</td>\n      <td>22.00</td>\n    </tr>\n    <tr>\n      <th>13</th>\n      <td>Wii Fit</td>\n      <td>22.72</td>\n    </tr>\n    <tr>\n      <th>12</th>\n      <td>Pokemon Gold/Pokemon Silver</td>\n      <td>23.10</td>\n    </tr>\n    <tr>\n      <th>11</th>\n      <td>Mario Kart DS</td>\n      <td>23.42</td>\n    </tr>\n    <tr>\n      <th>10</th>\n      <td>Nintendogs</td>\n      <td>24.76</td>\n    </tr>\n    <tr>\n      <th>9</th>\n      <td>Duck Hunt</td>\n      <td>28.31</td>\n    </tr>\n    <tr>\n      <th>8</th>\n      <td>New Super Mario Bros. Wii</td>\n      <td>28.62</td>\n    </tr>\n    <tr>\n      <th>7</th>\n      <td>Wii Play</td>\n      <td>29.02</td>\n    </tr>\n    <tr>\n      <th>6</th>\n      <td>New Super Mario Bros.</td>\n      <td>30.01</td>\n    </tr>\n    <tr>\n      <th>5</th>\n      <td>Tetris</td>\n      <td>30.26</td>\n    </tr>\n    <tr>\n      <th>4</th>\n      <td>Pokemon Red/Pokemon Blue</td>\n      <td>31.37</td>\n    </tr>\n    <tr>\n      <th>3</th>\n      <td>Wii Sports Resort</td>\n      <td>33.00</td>\n    </tr>\n    <tr>\n      <th>2</th>\n      <td>Mario Kart Wii</td>\n      <td>35.82</td>\n    </tr>\n    <tr>\n      <th>1</th>\n      <td>Super Mario Bros.</td>\n      <td>40.24</td>\n    </tr>\n    <tr>\n      <th>0</th>\n      <td>Wii Sports</td>\n      <td>82.74</td>\n    </tr>\n  </tbody>\n</table>\n</div>"
     },
     "metadata": {},
     "execution_count": 38
    }
   ],
   "source": [
    "top_twenty_highest_grossing_games=df.sort_values('Global_Sales',ascending=True).tail(20)\n",
    "top_twenty_highest_grossing_games[['Name','Global_Sales']]"
   ]
  },
  {
   "cell_type": "markdown",
   "metadata": {},
   "source": [
    "#### For North American video game sales, what’s the median?\n",
    "#### Provide a secondary output showing ten games surrounding the median sales output\n",
    "#### assume that games with same median value are sorted in descending order\n",
    "#### For the top-selling ga"
   ]
  },
  {
   "cell_type": "code",
   "execution_count": 70,
   "metadata": {},
   "outputs": [
    {
     "output_type": "execute_result",
     "data": {
      "text/plain": [
       "        Rank                                       Name Platform    Year  \\\n",
       "0          1                                 Wii Sports      Wii  2006.0   \n",
       "1          2                          Super Mario Bros.      NES  1985.0   \n",
       "2          3                             Mario Kart Wii      Wii  2008.0   \n",
       "3          4                          Wii Sports Resort      Wii  2009.0   \n",
       "4          5                   Pokemon Red/Pokemon Blue       GB  1996.0   \n",
       "...      ...                                        ...      ...     ...   \n",
       "10412  10414                 Fairy Tail: Portable Guild      PSP  2010.0   \n",
       "10413  10415  Champion Jockey: G1 Jockey & Gallop Racer      Wii  2011.0   \n",
       "10414  10416                               SimCity 2000      GBA  2003.0   \n",
       "10415  10417            Brunswick Circuit Pro Bowling 2       PS  2000.0   \n",
       "10416  10418                                          D       PS  1995.0   \n",
       "\n",
       "              Genre                     Publisher  NA_Sales  EU_Sales  \\\n",
       "0            Sports                      Nintendo     41.49     29.02   \n",
       "1          Platform                      Nintendo     29.08      3.58   \n",
       "2            Racing                      Nintendo     15.85     12.88   \n",
       "3            Sports                      Nintendo     15.75     11.01   \n",
       "4      Role-Playing                      Nintendo     11.27      8.89   \n",
       "...             ...                           ...       ...       ...   \n",
       "10412      Fighting  Konami Digital Entertainment      0.00      0.00   \n",
       "10413        Sports                    Tecmo Koei      0.05      0.04   \n",
       "10414    Simulation        Zoo Digital Publishing      0.08      0.03   \n",
       "10415        Sports                           THQ      0.06      0.04   \n",
       "10416     Adventure         Acclaim Entertainment      0.00      0.00   \n",
       "\n",
       "       JP_Sales  Other_Sales  Global_Sales  \n",
       "0          3.77         8.46         82.74  \n",
       "1          6.81         0.77         40.24  \n",
       "2          3.79         3.31         35.82  \n",
       "3          3.28         2.96         33.00  \n",
       "4         10.22         1.00         31.37  \n",
       "...         ...          ...           ...  \n",
       "10412      0.11         0.00          0.11  \n",
       "10413      0.01         0.01          0.11  \n",
       "10414      0.00         0.00          0.11  \n",
       "10415      0.00         0.01          0.11  \n",
       "10416      0.10         0.01          0.11  \n",
       "\n",
       "[10417 rows x 11 columns]"
      ],
      "text/html": "<div>\n<style scoped>\n    .dataframe tbody tr th:only-of-type {\n        vertical-align: middle;\n    }\n\n    .dataframe tbody tr th {\n        vertical-align: top;\n    }\n\n    .dataframe thead th {\n        text-align: right;\n    }\n</style>\n<table border=\"1\" class=\"dataframe\">\n  <thead>\n    <tr style=\"text-align: right;\">\n      <th></th>\n      <th>Rank</th>\n      <th>Name</th>\n      <th>Platform</th>\n      <th>Year</th>\n      <th>Genre</th>\n      <th>Publisher</th>\n      <th>NA_Sales</th>\n      <th>EU_Sales</th>\n      <th>JP_Sales</th>\n      <th>Other_Sales</th>\n      <th>Global_Sales</th>\n    </tr>\n  </thead>\n  <tbody>\n    <tr>\n      <th>0</th>\n      <td>1</td>\n      <td>Wii Sports</td>\n      <td>Wii</td>\n      <td>2006.0</td>\n      <td>Sports</td>\n      <td>Nintendo</td>\n      <td>41.49</td>\n      <td>29.02</td>\n      <td>3.77</td>\n      <td>8.46</td>\n      <td>82.74</td>\n    </tr>\n    <tr>\n      <th>1</th>\n      <td>2</td>\n      <td>Super Mario Bros.</td>\n      <td>NES</td>\n      <td>1985.0</td>\n      <td>Platform</td>\n      <td>Nintendo</td>\n      <td>29.08</td>\n      <td>3.58</td>\n      <td>6.81</td>\n      <td>0.77</td>\n      <td>40.24</td>\n    </tr>\n    <tr>\n      <th>2</th>\n      <td>3</td>\n      <td>Mario Kart Wii</td>\n      <td>Wii</td>\n      <td>2008.0</td>\n      <td>Racing</td>\n      <td>Nintendo</td>\n      <td>15.85</td>\n      <td>12.88</td>\n      <td>3.79</td>\n      <td>3.31</td>\n      <td>35.82</td>\n    </tr>\n    <tr>\n      <th>3</th>\n      <td>4</td>\n      <td>Wii Sports Resort</td>\n      <td>Wii</td>\n      <td>2009.0</td>\n      <td>Sports</td>\n      <td>Nintendo</td>\n      <td>15.75</td>\n      <td>11.01</td>\n      <td>3.28</td>\n      <td>2.96</td>\n      <td>33.00</td>\n    </tr>\n    <tr>\n      <th>4</th>\n      <td>5</td>\n      <td>Pokemon Red/Pokemon Blue</td>\n      <td>GB</td>\n      <td>1996.0</td>\n      <td>Role-Playing</td>\n      <td>Nintendo</td>\n      <td>11.27</td>\n      <td>8.89</td>\n      <td>10.22</td>\n      <td>1.00</td>\n      <td>31.37</td>\n    </tr>\n    <tr>\n      <th>...</th>\n      <td>...</td>\n      <td>...</td>\n      <td>...</td>\n      <td>...</td>\n      <td>...</td>\n      <td>...</td>\n      <td>...</td>\n      <td>...</td>\n      <td>...</td>\n      <td>...</td>\n      <td>...</td>\n    </tr>\n    <tr>\n      <th>10412</th>\n      <td>10414</td>\n      <td>Fairy Tail: Portable Guild</td>\n      <td>PSP</td>\n      <td>2010.0</td>\n      <td>Fighting</td>\n      <td>Konami Digital Entertainment</td>\n      <td>0.00</td>\n      <td>0.00</td>\n      <td>0.11</td>\n      <td>0.00</td>\n      <td>0.11</td>\n    </tr>\n    <tr>\n      <th>10413</th>\n      <td>10415</td>\n      <td>Champion Jockey: G1 Jockey &amp; Gallop Racer</td>\n      <td>Wii</td>\n      <td>2011.0</td>\n      <td>Sports</td>\n      <td>Tecmo Koei</td>\n      <td>0.05</td>\n      <td>0.04</td>\n      <td>0.01</td>\n      <td>0.01</td>\n      <td>0.11</td>\n    </tr>\n    <tr>\n      <th>10414</th>\n      <td>10416</td>\n      <td>SimCity 2000</td>\n      <td>GBA</td>\n      <td>2003.0</td>\n      <td>Simulation</td>\n      <td>Zoo Digital Publishing</td>\n      <td>0.08</td>\n      <td>0.03</td>\n      <td>0.00</td>\n      <td>0.00</td>\n      <td>0.11</td>\n    </tr>\n    <tr>\n      <th>10415</th>\n      <td>10417</td>\n      <td>Brunswick Circuit Pro Bowling 2</td>\n      <td>PS</td>\n      <td>2000.0</td>\n      <td>Sports</td>\n      <td>THQ</td>\n      <td>0.06</td>\n      <td>0.04</td>\n      <td>0.00</td>\n      <td>0.01</td>\n      <td>0.11</td>\n    </tr>\n    <tr>\n      <th>10416</th>\n      <td>10418</td>\n      <td>D</td>\n      <td>PS</td>\n      <td>1995.0</td>\n      <td>Adventure</td>\n      <td>Acclaim Entertainment</td>\n      <td>0.00</td>\n      <td>0.00</td>\n      <td>0.10</td>\n      <td>0.01</td>\n      <td>0.11</td>\n    </tr>\n  </tbody>\n</table>\n<p>10417 rows × 11 columns</p>\n</div>"
     },
     "metadata": {},
     "execution_count": 70
    }
   ],
   "source": [
    "\n",
    "most=df[df['Global_Sales']>0.1]\n",
    "most"
   ]
  },
  {
   "source": [
    "median```\n",
    "\n",
    "North_American_Median = most_Golbal['NA_Sales'].median(axis = 0)\n",
    "get_the_middle = df[df['NA_Sales'] == North_American_Median]\n",
    "\n",
    "mid_game = len(get_the_middle)//2\n",
    "star= mid_game-5\n",
    "arr_game=[]\n",
    "for i in range(10):\n",
    "    arr_game.append(get_the_middle.iloc[star]['Name'])\n",
    "    star+=1\n",
    "arr_game\n",
    "```"
   ],
   "cell_type": "markdown",
   "metadata": {}
  },
  {
   "cell_type": "code",
   "execution_count": 71,
   "metadata": {},
   "outputs": [
    {
     "output_type": "execute_result",
     "data": {
      "text/plain": [
       "['PowerUp Heroes',\n",
       " 'Mega Man ZX',\n",
       " \"Assassin's Creed IV: Black Flag\",\n",
       " 'Starhawk',\n",
       " 'Disney Channel: All Star Party',\n",
       " 'Fable: The Journey',\n",
       " 'Tony Hawk: Shred',\n",
       " 'Hot Wheels: Track Attack',\n",
       " 'Rapala Pro Bass Fishing 2010',\n",
       " 'RalliSport Challenge 2']"
      ]
     },
     "metadata": {},
     "execution_count": 71
    }
   ],
   "source": [
    "na_median_sales=most['NA_Sales'].median(axis = 0)\n",
    "na_median_sales\n",
    "middle=df[df['NA_Sales']==na_median_sales]\n",
    "mid=len(middle)//2\n",
    "\n",
    "start=mid-4\n",
    "\n",
    "arrs=[]\n",
    "for i in range(10):\n",
    "    arrs.append(middle.iloc[start]['Name'])\n",
    "    start+=1\n",
    "\n",
    "arrs\n",
    "\n"
   ]
  },
  {
   "cell_type": "code",
   "execution_count": 72,
   "metadata": {},
   "outputs": [
    {
     "output_type": "execute_result",
     "data": {
      "text/plain": [
       "0.18"
      ]
     },
     "metadata": {},
     "execution_count": 72
    }
   ],
   "source": [
    "na_median_sales"
   ]
  },
  {
   "cell_type": "code",
   "execution_count": null,
   "metadata": {},
   "outputs": [],
   "source": []
  },
  {
   "cell_type": "markdown",
   "metadata": {},
   "source": [
    "6. For the top-selling game of all time, how many standard deviations above/below the mean are its sales for North America?\n",
    "7. The Nintendo Wii seems to have outdone itself with games. How does its average number of sales compare with all of the other platforms?\n"
   ]
  },
  {
   "cell_type": "code",
   "execution_count": 73,
   "metadata": {},
   "outputs": [
    {
     "output_type": "execute_result",
     "data": {
      "text/plain": [
       "50.47898767479108"
      ]
     },
     "metadata": {},
     "execution_count": 73
    }
   ],
   "source": [
    "std=df['NA_Sales'].std()\n",
    "mean=df['NA_Sales'].mean()\n",
    "ten_median_na_seller_names=df['NA_Sales'].iloc[0]\n",
    "(ten_median_na_seller_names-mean)/std\n"
   ]
  },
  {
   "cell_type": "code",
   "execution_count": 88,
   "metadata": {},
   "outputs": [
    {
     "output_type": "stream",
     "name": "stdout",
     "text": [
      "0.6994037735849057\n0.5374406555006628\n"
     ]
    }
   ],
   "source": [
    "wii=df[df['Platform']=='Wii'].Global_Sales\n",
    "another=df[df['Platform']!='wii'].Global_Sales\n",
    "print(wii.mean())\n",
    "print(another.mean())"
   ]
  },
  {
   "cell_type": "code",
   "execution_count": 68,
   "metadata": {},
   "outputs": [
    {
     "output_type": "stream",
     "name": "stdout",
     "text": [
      "#### Success ####\n"
     ]
    }
   ],
   "source": [
    "def test():\n",
    "\n",
    "    def assert_equal(actual,expected):\n",
    "        assert actual == expected, f\"Expected {expected} but got {actual}\"\n",
    "\n",
    "    assert_equal(most_common_publisher,'Electronic Arts')\n",
    "    assert_equal(most_common_platform,'DS')\n",
    "    assert_equal(most_common_genre,'Action')\n",
    "    assert_equal(top_twenty_highest_grossing_games.iloc[19].Name, 'Wii Sports')\n",
    "    assert_equal(top_twenty_highest_grossing_games.iloc[0].Name, 'Brain Age: Train Your Brain in Minutes a Day')\n",
    "    assert_equal(na_median_sales, 0.18)\n",
    "\n",
    "    print(\"#### Success ####\")\n",
    "\n",
    "test()"
   ]
  },
  {
   "cell_type": "code",
   "execution_count": null,
   "metadata": {},
   "outputs": [],
   "source": []
  },
  {
   "cell_type": "code",
   "execution_count": null,
   "metadata": {},
   "outputs": [],
   "source": []
  },
  {
   "cell_type": "code",
   "execution_count": null,
   "metadata": {},
   "outputs": [],
   "source": []
  }
 ],
 "metadata": {
  "kernelspec": {
   "display_name": "Python 3",
   "language": "python",
   "name": "python3"
  },
  "language_info": {
   "codemirror_mode": {
    "name": "ipython",
    "version": 3
   },
   "file_extension": ".py",
   "mimetype": "text/x-python",
   "name": "python",
   "nbconvert_exporter": "python",
   "pygments_lexer": "ipython3",
   "version": "3.9.0-final"
  }
 },
 "nbformat": 4,
 "nbformat_minor": 4
}